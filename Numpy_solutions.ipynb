{
  "nbformat": 4,
  "nbformat_minor": 0,
  "metadata": {
    "colab": {
      "provenance": [],
      "toc_visible": true
    },
    "kernelspec": {
      "name": "python3",
      "display_name": "Python 3"
    },
    "language_info": {
      "name": "python"
    }
  },
  "cells": [
    {
      "cell_type": "code",
      "execution_count": 2,
      "metadata": {
        "colab": {
          "base_uri": "https://localhost:8080/"
        },
        "id": "eebhWcTaD96_",
        "outputId": "3e385184-c5c0-4e3f-a386-23bae05a762f"
      },
      "outputs": [
        {
          "output_type": "stream",
          "name": "stdout",
          "text": [
            "hi\n"
          ]
        }
      ],
      "source": [
        "print('hi')"
      ]
    },
    {
      "cell_type": "code",
      "source": [
        "#импорт библиотеки\n",
        "import numpy as np\n"
      ],
      "metadata": {
        "id": "9QQJUX9YGZqS"
      },
      "execution_count": 3,
      "outputs": []
    },
    {
      "cell_type": "code",
      "source": [
        "#массив из 10 нулей\n",
        "array=np.zeros(10)\n",
        "print(\"10 null\")\n",
        "print(array) "
      ],
      "metadata": {
        "colab": {
          "base_uri": "https://localhost:8080/"
        },
        "id": "cgu1OhH5Gv8R",
        "outputId": "3d193f10-d9fc-4a49-ab7a-a9d0ed800e9d"
      },
      "execution_count": 5,
      "outputs": [
        {
          "output_type": "stream",
          "name": "stdout",
          "text": [
            "10 edinic\n",
            "[0. 0. 0. 0. 0. 0. 0. 0. 0. 0.]\n"
          ]
        }
      ]
    },
    {
      "cell_type": "code",
      "source": [
        "#массив из 10 единиц\n",
        "array=np.ones(10)\n",
        "print(\"10 edinic\")\n",
        "print(array)"
      ],
      "metadata": {
        "colab": {
          "base_uri": "https://localhost:8080/"
        },
        "id": "ie4TzUBlHpXh",
        "outputId": "070978dc-cb84-4c59-e82e-8c922274c426"
      },
      "execution_count": 6,
      "outputs": [
        {
          "output_type": "stream",
          "name": "stdout",
          "text": [
            "10 edinic\n",
            "[1. 1. 1. 1. 1. 1. 1. 1. 1. 1.]\n"
          ]
        }
      ]
    },
    {
      "cell_type": "code",
      "source": [
        "#массив из 10 пятерок\n",
        "array=np.ones(10)*5\n",
        "print(\"10 pyaterok:\")\n",
        "print(array)"
      ],
      "metadata": {
        "colab": {
          "base_uri": "https://localhost:8080/"
        },
        "id": "aZ0oFCrcIkOK",
        "outputId": "943d13eb-1f02-4655-fd35-5145dea040f3"
      },
      "execution_count": 7,
      "outputs": [
        {
          "output_type": "stream",
          "name": "stdout",
          "text": [
            "10 pyaterok:\n",
            "[5. 5. 5. 5. 5. 5. 5. 5. 5. 5.]\n"
          ]
        }
      ]
    },
    {
      "cell_type": "code",
      "source": [
        "#массив из целых чисел от 10 до 50\n",
        "array=np.arange(10,51)\n",
        "print('ot10 do 50')\n",
        "print(array)"
      ],
      "metadata": {
        "colab": {
          "base_uri": "https://localhost:8080/"
        },
        "id": "Iie6ce-yI7pS",
        "outputId": "76828966-abe6-4a35-83e5-009047beaae6"
      },
      "execution_count": 8,
      "outputs": [
        {
          "output_type": "stream",
          "name": "stdout",
          "text": [
            "ot10 do 50\n",
            "[10 11 12 13 14 15 16 17 18 19 20 21 22 23 24 25 26 27 28 29 30 31 32 33\n",
            " 34 35 36 37 38 39 40 41 42 43 44 45 46 47 48 49 50]\n"
          ]
        }
      ]
    },
    {
      "cell_type": "code",
      "source": [
        "#массив из четных чисел от 10 до 50\n",
        "for a in range(10, 51, 2):\n",
        "   print (a)\n"
      ],
      "metadata": {
        "colab": {
          "base_uri": "https://localhost:8080/"
        },
        "id": "Dn_zXn6rJYMv",
        "outputId": "45a8a57d-98ab-4426-eae1-3188c00f7e2f"
      },
      "execution_count": 13,
      "outputs": [
        {
          "output_type": "stream",
          "name": "stdout",
          "text": [
            "10\n",
            "12\n",
            "14\n",
            "16\n",
            "18\n",
            "20\n",
            "22\n",
            "24\n",
            "26\n",
            "28\n",
            "30\n",
            "32\n",
            "34\n",
            "36\n",
            "38\n",
            "40\n",
            "42\n",
            "44\n",
            "46\n",
            "48\n",
            "50\n"
          ]
        }
      ]
    },
    {
      "cell_type": "code",
      "source": [
        "from numpy.matrixlib.defmatrix import matrix\n",
        "#матрицу 3х3 с числами от 0 до 8\n",
        "matrix=np.arange(0,9).reshape(3,3)\n",
        "print(matrix)"
      ],
      "metadata": {
        "colab": {
          "base_uri": "https://localhost:8080/"
        },
        "id": "BTFQRqPLNA9Z",
        "outputId": "47e0b856-0ec4-4030-929b-5990140f3a32"
      },
      "execution_count": 14,
      "outputs": [
        {
          "output_type": "stream",
          "name": "stdout",
          "text": [
            "[[0 1 2]\n",
            " [3 4 5]\n",
            " [6 7 8]]\n"
          ]
        }
      ]
    },
    {
      "cell_type": "code",
      "source": [
        "#единичную матрицу 3x3\n",
        "matrix=np.eye(3)\n",
        "print(matrix)"
      ],
      "metadata": {
        "colab": {
          "base_uri": "https://localhost:8080/"
        },
        "id": "hsofxeXrOUBz",
        "outputId": "2765091a-6e38-4ac7-c670-b7f864d8d585"
      },
      "execution_count": 18,
      "outputs": [
        {
          "output_type": "stream",
          "name": "stdout",
          "text": [
            "[[1. 0. 0.]\n",
            " [0. 1. 0.]\n",
            " [0. 0. 1.]]\n"
          ]
        }
      ]
    },
    {
      "cell_type": "code",
      "source": [
        "#NumPy для генерации случайного числа от 0 до 1\n",
        "rand = np.random.rand(1)\n",
        "print(\"ot 0 do 1\")\n",
        "print(rand)"
      ],
      "metadata": {
        "colab": {
          "base_uri": "https://localhost:8080/"
        },
        "id": "48JY1bdeOpHK",
        "outputId": "f3a5988a-47d4-4493-d978-91d8d8fa1997"
      },
      "execution_count": 16,
      "outputs": [
        {
          "output_type": "stream",
          "name": "stdout",
          "text": [
            "ot 0 do 1\n",
            "[0.41078357]\n"
          ]
        }
      ]
    },
    {
      "cell_type": "code",
      "source": [
        "#NumPy для генерации массива из 25 случайных чисел\n",
        "rand=np.random.rand(25)\n",
        "print(\"25 random numbers:\")\n",
        "print(rand)\n"
      ],
      "metadata": {
        "colab": {
          "base_uri": "https://localhost:8080/"
        },
        "id": "gAIO0jPgPPCm",
        "outputId": "29ee0175-21a4-48c0-b1f5-c80b2f7cbfdd"
      },
      "execution_count": 28,
      "outputs": [
        {
          "output_type": "stream",
          "name": "stdout",
          "text": [
            "25 random numbers:\n",
            "[0.68341329 0.41775925 0.26634057 0.03612299 0.61764275 0.62683463\n",
            " 0.07793315 0.58047613 0.68217764 0.32271658 0.66953749 0.27746672\n",
            " 0.80943861 0.33907694 0.39579363 0.44169517 0.9645396  0.76519299\n",
            " 0.45984495 0.22829894 0.4225041  0.41044597 0.81649668 0.44593487\n",
            " 0.97836038]\n"
          ]
        }
      ]
    },
    {
      "cell_type": "code",
      "source": [
        "#Создайте следующую матрицу используя функции библиотеки NumPy\n",
        "mat=np.arange(0.01, 1.01, 0.01).reshape(10,10)\n",
        "print(mat)"
      ],
      "metadata": {
        "colab": {
          "base_uri": "https://localhost:8080/"
        },
        "id": "pLGU0wTiRuwR",
        "outputId": "6238a77e-0bc9-4376-b0f4-202611dd556a"
      },
      "execution_count": 29,
      "outputs": [
        {
          "output_type": "stream",
          "name": "stdout",
          "text": [
            "[[0.01 0.02 0.03 0.04 0.05 0.06 0.07 0.08 0.09 0.1 ]\n",
            " [0.11 0.12 0.13 0.14 0.15 0.16 0.17 0.18 0.19 0.2 ]\n",
            " [0.21 0.22 0.23 0.24 0.25 0.26 0.27 0.28 0.29 0.3 ]\n",
            " [0.31 0.32 0.33 0.34 0.35 0.36 0.37 0.38 0.39 0.4 ]\n",
            " [0.41 0.42 0.43 0.44 0.45 0.46 0.47 0.48 0.49 0.5 ]\n",
            " [0.51 0.52 0.53 0.54 0.55 0.56 0.57 0.58 0.59 0.6 ]\n",
            " [0.61 0.62 0.63 0.64 0.65 0.66 0.67 0.68 0.69 0.7 ]\n",
            " [0.71 0.72 0.73 0.74 0.75 0.76 0.77 0.78 0.79 0.8 ]\n",
            " [0.81 0.82 0.83 0.84 0.85 0.86 0.87 0.88 0.89 0.9 ]\n",
            " [0.91 0.92 0.93 0.94 0.95 0.96 0.97 0.98 0.99 1.  ]]\n"
          ]
        }
      ]
    },
    {
      "cell_type": "code",
      "source": [
        "# это наша стартовая матрица\n",
        "mat = np.arange(1,26).reshape(5,5)\n",
        "print(mat)\n"
      ],
      "metadata": {
        "colab": {
          "base_uri": "https://localhost:8080/"
        },
        "id": "SNVSxtlQSlJw",
        "outputId": "397f8afd-602b-4d0f-ec63-d5b9cfc6c2ae"
      },
      "execution_count": 30,
      "outputs": [
        {
          "output_type": "stream",
          "name": "stdout",
          "text": [
            "[[ 1  2  3  4  5]\n",
            " [ 6  7  8  9 10]\n",
            " [11 12 13 14 15]\n",
            " [16 17 18 19 20]\n",
            " [21 22 23 24 25]]\n"
          ]
        }
      ]
    },
    {
      "cell_type": "code",
      "source": [
        "#Необходимо написать код который вернет следующую матрицуиз стартовой\n",
        "print('1=', mat[0:,0:])"
      ],
      "metadata": {
        "colab": {
          "base_uri": "https://localhost:8080/"
        },
        "id": "iY7DueO0jhwi",
        "outputId": "e6324d03-0eb5-4210-e2ae-82d945fd7cba"
      },
      "execution_count": 31,
      "outputs": [
        {
          "output_type": "stream",
          "name": "stdout",
          "text": [
            "1= [[ 1  2  3  4  5]\n",
            " [ 6  7  8  9 10]\n",
            " [11 12 13 14 15]\n",
            " [16 17 18 19 20]\n",
            " [21 22 23 24 25]]\n"
          ]
        }
      ]
    },
    {
      "cell_type": "code",
      "source": [
        "dv=mat[mat==20]\n",
        "print(dv)"
      ],
      "metadata": {
        "colab": {
          "base_uri": "https://localhost:8080/"
        },
        "id": "pPC_pQLfkK1B",
        "outputId": "169f2f37-1695-4bd9-d02c-f1fba1d9a316"
      },
      "execution_count": 32,
      "outputs": [
        {
          "output_type": "stream",
          "name": "stdout",
          "text": [
            "[20]\n"
          ]
        }
      ]
    },
    {
      "cell_type": "code",
      "source": [
        "print('n=', mat[0:3,1].reshape(3,1))"
      ],
      "metadata": {
        "colab": {
          "base_uri": "https://localhost:8080/"
        },
        "id": "q3FUb_N0ktRn",
        "outputId": "5f895ea3-9a40-4b9d-fd69-cefc390a0bc3"
      },
      "execution_count": 33,
      "outputs": [
        {
          "output_type": "stream",
          "name": "stdout",
          "text": [
            "n= [[ 2]\n",
            " [ 7]\n",
            " [12]]\n"
          ]
        }
      ]
    },
    {
      "cell_type": "code",
      "source": [
        "print('1=',mat[4:])"
      ],
      "metadata": {
        "colab": {
          "base_uri": "https://localhost:8080/"
        },
        "id": "ItRzGjytlf9X",
        "outputId": "2ca7e5a5-96ad-4d69-aaae-ad5987c6c1c2"
      },
      "execution_count": 38,
      "outputs": [
        {
          "output_type": "stream",
          "name": "stdout",
          "text": [
            "1= [[21 22 23 24 25]]\n"
          ]
        }
      ]
    },
    {
      "cell_type": "code",
      "source": [
        "print('p=', mat[3:])"
      ],
      "metadata": {
        "colab": {
          "base_uri": "https://localhost:8080/"
        },
        "id": "ZriPmHMfmlBj",
        "outputId": "88bdb688-3c6a-4d82-e20e-8d1989cb37ad"
      },
      "execution_count": 41,
      "outputs": [
        {
          "output_type": "stream",
          "name": "stdout",
          "text": [
            "p= [[16 17 18 19 20]\n",
            " [21 22 23 24 25]]\n"
          ]
        }
      ]
    },
    {
      "cell_type": "code",
      "source": [
        "print(mat.sum())"
      ],
      "metadata": {
        "colab": {
          "base_uri": "https://localhost:8080/"
        },
        "id": "eBpR-twPoodJ",
        "outputId": "ac54086e-97d8-4da1-c96f-2cbbb6a45c3f"
      },
      "execution_count": 42,
      "outputs": [
        {
          "output_type": "stream",
          "name": "stdout",
          "text": [
            "325\n"
          ]
        }
      ]
    },
    {
      "cell_type": "code",
      "source": [
        "print(mat.std())"
      ],
      "metadata": {
        "colab": {
          "base_uri": "https://localhost:8080/"
        },
        "id": "xMdnOD6TpAjB",
        "outputId": "afca8d25-41fe-42bb-e858-50595de9c978"
      },
      "execution_count": 43,
      "outputs": [
        {
          "output_type": "stream",
          "name": "stdout",
          "text": [
            "7.211102550927978\n"
          ]
        }
      ]
    },
    {
      "cell_type": "code",
      "source": [
        "print(mat.sum(axis=0))"
      ],
      "metadata": {
        "colab": {
          "base_uri": "https://localhost:8080/"
        },
        "id": "z-ECoaXbpHHG",
        "outputId": "1c62a8f8-fe3d-4b33-e4ce-a7a18f45c7e2"
      },
      "execution_count": 44,
      "outputs": [
        {
          "output_type": "stream",
          "name": "stdout",
          "text": [
            "[55 60 65 70 75]\n"
          ]
        }
      ]
    }
  ]
}